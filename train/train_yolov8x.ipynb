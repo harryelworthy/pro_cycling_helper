{
 "cells": [
  {
   "cell_type": "code",
   "execution_count": null,
   "metadata": {},
   "outputs": [],
   "source": [
    "!pip install ultralytics\n",
    "!pip install roboflow"
   ]
  },
  {
   "cell_type": "code",
   "execution_count": null,
   "metadata": {},
   "outputs": [],
   "source": [
    "robo_api_key = \"\"\n",
    "robo_workspace = \"cyclinghelper\"\n",
    "robo_project = \"pro-cyclists\"\n",
    "robo_version = 1"
   ]
  },
  {
   "cell_type": "code",
   "execution_count": null,
   "metadata": {},
   "outputs": [],
   "source": [
    "from roboflow import Roboflow\n",
    "rf = Roboflow(api_key=robo_api_key)\n",
    "project = rf.workspace(robo_workspace).project(robo_project)\n",
    "version = project.version(robo_version)\n",
    "dataset = version.download(\"yolov8\")"
   ]
  },
  {
   "cell_type": "code",
   "execution_count": null,
   "metadata": {},
   "outputs": [],
   "source": [
    "from google.colab import drive\n",
    "drive.mount('/content/drive')"
   ]
  },
  {
   "cell_type": "code",
   "execution_count": null,
   "metadata": {},
   "outputs": [],
   "source": [
    "# Test out copy\n",
    "!cp pro-cyclists-1/README.dataset.txt drive/MyDrive/Colab\\ Notebooks/cyclinghelper"
   ]
  },
  {
   "cell_type": "code",
   "execution_count": null,
   "metadata": {},
   "outputs": [],
   "source": [
    "import shutil\n",
    "\n",
    "shutil.move(f'{robo_project}-{robo_version}/train',\n",
    "            f'{robo_project}-{robo_version}/{robo_project}-{robo_version}/train'\n",
    "            )\n",
    "\n",
    "shutil.move(f'{robo_project}-{robo_version}/test',\n",
    "            f'{robo_project}-{robo_version}/{robo_project}-{robo_version}/test'\n",
    "            )\n",
    "\n",
    "shutil.move(f'{robo_project}-{robo_version}/valid',\n",
    "            f'{robo_project}-{robo_version}/{robo_project}-{robo_version}/valid'\n",
    "            )"
   ]
  },
  {
   "cell_type": "code",
   "execution_count": null,
   "metadata": {},
   "outputs": [],
   "source": [
    "!yolo task=detect mode=train model=yolov8x.pt data={dataset.location}/data.yaml epochs=100 imgsz=640"
   ]
  },
  {
   "cell_type": "code",
   "execution_count": null,
   "metadata": {},
   "outputs": [],
   "source": [
    "!cp runs/detect/train/weights/best.pt drive/MyDrive/Colab\\ Notebooks/cyclinghelper\n",
    "!cp runs/detect/train/weights/last.pt drive/MyDrive/Colab\\ Notebooks/cyclinghelper"
   ]
  }
 ],
 "metadata": {
  "language_info": {
   "name": "python"
  }
 },
 "nbformat": 4,
 "nbformat_minor": 2
}
