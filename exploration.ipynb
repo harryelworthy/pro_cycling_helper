{
 "cells": [
  {
   "cell_type": "code",
   "execution_count": 2,
   "metadata": {},
   "outputs": [],
   "source": [
    "from ultralytics import YOLO"
   ]
  },
  {
   "cell_type": "code",
   "execution_count": 5,
   "metadata": {},
   "outputs": [
    {
     "data": {
      "text/plain": [
       "0    https://www.youtube.com/watch?v=qSnE3obXEu4\n",
       "1    https://www.youtube.com/watch?v=kfpkje15GLs\n",
       "2    https://www.youtube.com/watch?v=N3kki_8WOAI\n",
       "Name: link, dtype: object"
      ]
     },
     "execution_count": 5,
     "metadata": {},
     "output_type": "execute_result"
    }
   ],
   "source": [
    "# Test out the trained model on video snippets\n",
    "model = 'models/best_model.pt'\n",
    "video = 'video_snippets/Gent Wevelgem 2024_snippet_2.mp4'\n",
    "\n",
    "model = YOLO(model)\n",
    "model.predict(video, save=True,conf=0.8)"
   ]
  }
 ],
 "metadata": {
  "kernelspec": {
   "display_name": ".venv",
   "language": "python",
   "name": "python3"
  },
  "language_info": {
   "codemirror_mode": {
    "name": "ipython",
    "version": 3
   },
   "file_extension": ".py",
   "mimetype": "text/x-python",
   "name": "python",
   "nbconvert_exporter": "python",
   "pygments_lexer": "ipython3",
   "version": "3.9.6"
  }
 },
 "nbformat": 4,
 "nbformat_minor": 2
}
